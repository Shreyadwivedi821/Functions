{
  "nbformat": 4,
  "nbformat_minor": 0,
  "metadata": {
    "colab": {
      "provenance": []
    },
    "kernelspec": {
      "name": "python3",
      "display_name": "Python 3"
    },
    "language_info": {
      "name": "python"
    }
  },
  "cells": [
    {
      "cell_type": "markdown",
      "source": [
        "Functions"
      ],
      "metadata": {
        "id": "0OMwPWGEFho2"
      }
    },
    {
      "cell_type": "markdown",
      "source": [],
      "metadata": {
        "id": "lj9RQxPBGjnc"
      }
    },
    {
      "cell_type": "markdown",
      "source": [
        "1. what is the difference between a function and a method in function\n",
        "  - methods are functions that are associated with objects or classes, while functions can exist independently\n"
      ],
      "metadata": {
        "id": "9aeKVKXSFygk"
      }
    },
    {
      "cell_type": "code",
      "execution_count": null,
      "metadata": {
        "id": "9XvypEx0FOo_"
      },
      "outputs": [],
      "source": []
    },
    {
      "cell_type": "code",
      "source": [
        "# question\n",
        "'''\n",
        "this is answer\n",
        "'''\n",
        "\"\"\"\n",
        "this is answer\n",
        "\"\"\"\n"
      ],
      "metadata": {
        "colab": {
          "base_uri": "https://localhost:8080/",
          "height": 35
        },
        "id": "ipsSsl98HNmi",
        "outputId": "9d5e2c0c-62e4-4525-c45f-c1be8a63489c"
      },
      "execution_count": 2,
      "outputs": [
        {
          "output_type": "execute_result",
          "data": {
            "text/plain": [
              "'\\nthis is answer\\n'"
            ],
            "application/vnd.google.colaboratory.intrinsic+json": {
              "type": "string"
            }
          },
          "metadata": {},
          "execution_count": 2
        }
      ]
    },
    {
      "cell_type": "markdown",
      "source": [
        "2."
      ],
      "metadata": {
        "id": "Si7UqI0RGt_a"
      }
    }
  ]
}